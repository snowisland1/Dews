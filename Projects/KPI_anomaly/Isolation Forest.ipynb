{
 "cells": [
  {
   "cell_type": "code",
   "execution_count": 1,
   "metadata": {
    "collapsed": true
   },
   "outputs": [],
   "source": [
    "import pandas as pd\n",
    "import time\n",
    "import numpy as np\n",
    "from sklearn.metrics import precision_score,recall_score,f1_score\n",
    "import json"
   ]
  },
  {
   "cell_type": "code",
   "execution_count": 2,
   "metadata": {
    "collapsed": true
   },
   "outputs": [],
   "source": [
    "def make_samples(idnames,time_series,value_series,anomaly_series,period,):\n",
    "    series = SeriesStandard(value_series)\n",
    "    if period>len(series):\n",
    "        return \"error\"\n",
    "    result={}\n",
    "    for start in range(period,len(series)):\n",
    "        result = append_data(result,\"id\",idnames)\n",
    "        result = append_data(result,\"time\",time_series[start])\n",
    "        result = append_data(result,\"label\",anomaly_series[start])\n",
    "        strs = getStrs(\"before\",period+1)\n",
    "        for i in range(period+1):\n",
    "            result = append_data(result,strs[i],series[start-i])\n",
    "    return pd.DataFrame(result)\n",
    "\n",
    "def append_data(dic,key,value):\n",
    "    if(dic.has_key(key)):\n",
    "        dic[key].append(value)\n",
    "    else:\n",
    "        dic[key] = [value]\n",
    "    return dic\n",
    "\n",
    "def getStrs(pre,num):\n",
    "    result = []\n",
    "    for i in range(num):\n",
    "        result.append(pre+str(i))\n",
    "    return result\n",
    "\n",
    "def  SeriesStandard(series):\n",
    "    \"\"\"\n",
    "    return a new series which the mean is 0 and variance is 1\n",
    "    :param series: \n",
    "    :return: \n",
    "    \"\"\"\n",
    "    mean = np.mean(series)\n",
    "    variance = np.var(series)\n",
    "    series = (series-mean)/variance\n",
    "    return series"
   ]
  },
  {
   "cell_type": "code",
   "execution_count": 3,
   "metadata": {
    "collapsed": true
   },
   "outputs": [],
   "source": [
    "filepath1=\"../../dataset/anomaly_detection_1/train.csv\"\n",
    "offlinedata=pd.read_csv(filepath1)"
   ]
  },
  {
   "cell_type": "code",
   "execution_count": 450,
   "metadata": {},
   "outputs": [
    {
     "data": {
      "text/plain": [
       "'02e99bd4f6cfb33f'"
      ]
     },
     "execution_count": 450,
     "metadata": {},
     "output_type": "execute_result"
    }
   ],
   "source": [
    "KPI_ID[0]"
   ]
  },
  {
   "cell_type": "code",
   "execution_count": 449,
   "metadata": {},
   "outputs": [
    {
     "name": "stdout",
     "output_type": "stream",
     "text": [
      "{\"message\": \"success\", \"data\": 0.6273062730627306, \"result\": true}\n"
     ]
    },
    {
     "name": "stderr",
     "output_type": "stream",
     "text": [
      "/Users/sheldon/anaconda2/lib/python2.7/site-packages/ipykernel_launcher.py:5: SettingWithCopyWarning: \n",
      "A value is trying to be set on a copy of a slice from a DataFrame\n",
      "\n",
      "See the caveats in the documentation: http://pandas.pydata.org/pandas-docs/stable/indexing.html#indexing-view-versus-copy\n",
      "  \"\"\"\n"
     ]
    },
    {
     "data": {
      "text/plain": [
       "'{\"message\": \"success\", \"data\": 0.6273062730627306, \"result\": true}'"
      ]
     },
     "execution_count": 449,
     "metadata": {},
     "output_type": "execute_result"
    }
   ],
   "source": [
    "KPI_ID = pd.unique(offlinedata['KPI ID'])\n",
    "KPI_ID00 = offlinedata[offlinedata['KPI ID']==KPI_ID[26]]\n",
    "KPI_ID00.head()\n",
    "samples=pd.read_csv(\"./samples/samples1.csv\")\n",
    "samples['predict'][samples.diff1>0.9]=1\n",
    "data = pd.merge(KPI_ID00,samples[[\"id\",\"timestamp\",\"predict\"]],left_on=[\"KPI ID\",\"timestamp\"],right_on=[\"id\",\"timestamp\"],how='left')\n",
    "data= data[[\"KPI ID\",\"timestamp\",\"label\",\"predict\"]]\n",
    "label_evaluation(data.iloc[:,[0,1,2]],data.iloc[:,[0,1,3]])"
   ]
  },
  {
   "cell_type": "code",
   "execution_count": 111,
   "metadata": {},
   "outputs": [
    {
     "data": {
      "text/plain": [
       "'2017-05-24 18:11:00'"
      ]
     },
     "execution_count": 111,
     "metadata": {},
     "output_type": "execute_result"
    }
   ],
   "source": [
    "time.strftime(\"%Y-%m-%d %H:%M:%S\",time.localtime(KPI_ID00.iloc[1,1]))\n",
    "time.strftime(\"%Y-%m-%d %H:%M:%S\",time.localtime(KPI_ID00.iloc[0,1]))"
   ]
  },
  {
   "cell_type": "code",
   "execution_count": 116,
   "metadata": {},
   "outputs": [
    {
     "name": "stderr",
     "output_type": "stream",
     "text": [
      "/Users/sheldon/anaconda2/lib/python2.7/site-packages/ipykernel_launcher.py:2: SettingWithCopyWarning: \n",
      "A value is trying to be set on a copy of a slice from a DataFrame\n",
      "\n",
      "See the caveats in the documentation: http://pandas.pydata.org/pandas-docs/stable/indexing.html#indexing-view-versus-copy\n",
      "  \n"
     ]
    },
    {
     "name": "stdout",
     "output_type": "stream",
     "text": [
      "{\"message\": \"success\", \"data\": 0.23877632101708382, \"result\": true}\n"
     ]
    },
    {
     "data": {
      "text/plain": [
       "'{\"message\": \"success\", \"data\": 0.23877632101708382, \"result\": true}'"
      ]
     },
     "execution_count": 116,
     "metadata": {},
     "output_type": "execute_result"
    }
   ],
   "source": [
    "samples=pd.read_csv(\"./samples/samples1.csv\")\n",
    "samples['predict'][samples.diff1>1]=1\n",
    "data = pd.merge(KPI_ID00,samples[[\"id\",\"timestamp\",\"predict\"]],left_on=[\"KPI ID\",\"timestamp\"],right_on=[\"id\",\"timestamp\"],how='left')\n",
    "data= data[[\"KPI ID\",\"timestamp\",\"label\",\"predict\"]]\n",
    "label_evaluation(data.iloc[:,[0,1,2]],data.iloc[:,[0,1,3]])"
   ]
  },
  {
   "cell_type": "code",
   "execution_count": 5,
   "metadata": {
    "collapsed": true
   },
   "outputs": [],
   "source": [
    "samples = make_samples(KPI_ID[0],np.array(KPI_ID00['timestamp']),np.array(KPI_ID00['value']),np.array(KPI_ID00['label']),40)"
   ]
  },
  {
   "cell_type": "code",
   "execution_count": 10,
   "metadata": {},
   "outputs": [
    {
     "name": "stdout",
     "output_type": "stream",
     "text": [
      "9bd90500bfd11edb\n",
      "e0770391decc44ce\n",
      "da403e4e3f87c9e0\n",
      "a5bf5d65261d859a\n"
     ]
    },
    {
     "data": {
      "text/html": [
       "<div>\n",
       "<style>\n",
       "    .dataframe thead tr:only-child th {\n",
       "        text-align: right;\n",
       "    }\n",
       "\n",
       "    .dataframe thead th {\n",
       "        text-align: left;\n",
       "    }\n",
       "\n",
       "    .dataframe tbody tr th {\n",
       "        vertical-align: top;\n",
       "    }\n",
       "</style>\n",
       "<table border=\"1\" class=\"dataframe\">\n",
       "  <thead>\n",
       "    <tr style=\"text-align: right;\">\n",
       "      <th></th>\n",
       "      <th>before0</th>\n",
       "      <th>before1</th>\n",
       "      <th>before10</th>\n",
       "      <th>before11</th>\n",
       "      <th>before12</th>\n",
       "      <th>before13</th>\n",
       "      <th>before14</th>\n",
       "      <th>before15</th>\n",
       "      <th>before16</th>\n",
       "      <th>before17</th>\n",
       "      <th>...</th>\n",
       "      <th>before4</th>\n",
       "      <th>before40</th>\n",
       "      <th>before5</th>\n",
       "      <th>before6</th>\n",
       "      <th>before7</th>\n",
       "      <th>before8</th>\n",
       "      <th>before9</th>\n",
       "      <th>id</th>\n",
       "      <th>label</th>\n",
       "      <th>time</th>\n",
       "    </tr>\n",
       "  </thead>\n",
       "  <tbody>\n",
       "    <tr>\n",
       "      <th>0</th>\n",
       "      <td>0.258292</td>\n",
       "      <td>0.678212</td>\n",
       "      <td>0.105593</td>\n",
       "      <td>0.563688</td>\n",
       "      <td>-0.008930</td>\n",
       "      <td>0.181943</td>\n",
       "      <td>0.830911</td>\n",
       "      <td>0.181943</td>\n",
       "      <td>0.067419</td>\n",
       "      <td>-0.047105</td>\n",
       "      <td>...</td>\n",
       "      <td>0.449165</td>\n",
       "      <td>-0.123454</td>\n",
       "      <td>0.487339</td>\n",
       "      <td>0.410990</td>\n",
       "      <td>0.296466</td>\n",
       "      <td>0.869085</td>\n",
       "      <td>1.059958</td>\n",
       "      <td>02e99bd4f6cfb33f</td>\n",
       "      <td>0</td>\n",
       "      <td>1493570400</td>\n",
       "    </tr>\n",
       "    <tr>\n",
       "      <th>1</th>\n",
       "      <td>0.105593</td>\n",
       "      <td>0.258292</td>\n",
       "      <td>1.059958</td>\n",
       "      <td>0.105593</td>\n",
       "      <td>0.563688</td>\n",
       "      <td>-0.008930</td>\n",
       "      <td>0.181943</td>\n",
       "      <td>0.830911</td>\n",
       "      <td>0.181943</td>\n",
       "      <td>0.067419</td>\n",
       "      <td>...</td>\n",
       "      <td>0.487339</td>\n",
       "      <td>-0.390676</td>\n",
       "      <td>0.449165</td>\n",
       "      <td>0.487339</td>\n",
       "      <td>0.410990</td>\n",
       "      <td>0.296466</td>\n",
       "      <td>0.869085</td>\n",
       "      <td>02e99bd4f6cfb33f</td>\n",
       "      <td>0</td>\n",
       "      <td>1493570460</td>\n",
       "    </tr>\n",
       "    <tr>\n",
       "      <th>2</th>\n",
       "      <td>0.105593</td>\n",
       "      <td>0.105593</td>\n",
       "      <td>0.869085</td>\n",
       "      <td>1.059958</td>\n",
       "      <td>0.105593</td>\n",
       "      <td>0.563688</td>\n",
       "      <td>-0.008930</td>\n",
       "      <td>0.181943</td>\n",
       "      <td>0.830911</td>\n",
       "      <td>0.181943</td>\n",
       "      <td>...</td>\n",
       "      <td>0.449165</td>\n",
       "      <td>0.105593</td>\n",
       "      <td>0.487339</td>\n",
       "      <td>0.449165</td>\n",
       "      <td>0.487339</td>\n",
       "      <td>0.410990</td>\n",
       "      <td>0.296466</td>\n",
       "      <td>02e99bd4f6cfb33f</td>\n",
       "      <td>0</td>\n",
       "      <td>1493570520</td>\n",
       "    </tr>\n",
       "    <tr>\n",
       "      <th>3</th>\n",
       "      <td>0.258292</td>\n",
       "      <td>0.105593</td>\n",
       "      <td>0.296466</td>\n",
       "      <td>0.869085</td>\n",
       "      <td>1.059958</td>\n",
       "      <td>0.105593</td>\n",
       "      <td>0.563688</td>\n",
       "      <td>-0.008930</td>\n",
       "      <td>0.181943</td>\n",
       "      <td>0.830911</td>\n",
       "      <td>...</td>\n",
       "      <td>0.678212</td>\n",
       "      <td>-0.161628</td>\n",
       "      <td>0.449165</td>\n",
       "      <td>0.487339</td>\n",
       "      <td>0.449165</td>\n",
       "      <td>0.487339</td>\n",
       "      <td>0.410990</td>\n",
       "      <td>02e99bd4f6cfb33f</td>\n",
       "      <td>0</td>\n",
       "      <td>1493570580</td>\n",
       "    </tr>\n",
       "    <tr>\n",
       "      <th>4</th>\n",
       "      <td>-0.047105</td>\n",
       "      <td>0.258292</td>\n",
       "      <td>0.410990</td>\n",
       "      <td>0.296466</td>\n",
       "      <td>0.869085</td>\n",
       "      <td>1.059958</td>\n",
       "      <td>0.105593</td>\n",
       "      <td>0.563688</td>\n",
       "      <td>-0.008930</td>\n",
       "      <td>0.181943</td>\n",
       "      <td>...</td>\n",
       "      <td>0.258292</td>\n",
       "      <td>-0.314327</td>\n",
       "      <td>0.678212</td>\n",
       "      <td>0.449165</td>\n",
       "      <td>0.487339</td>\n",
       "      <td>0.449165</td>\n",
       "      <td>0.487339</td>\n",
       "      <td>02e99bd4f6cfb33f</td>\n",
       "      <td>0</td>\n",
       "      <td>1493570640</td>\n",
       "    </tr>\n",
       "  </tbody>\n",
       "</table>\n",
       "<p>5 rows × 44 columns</p>\n",
       "</div>"
      ],
      "text/plain": [
       "    before0   before1  before10  before11  before12  before13  before14  \\\n",
       "0  0.258292  0.678212  0.105593  0.563688 -0.008930  0.181943  0.830911   \n",
       "1  0.105593  0.258292  1.059958  0.105593  0.563688 -0.008930  0.181943   \n",
       "2  0.105593  0.105593  0.869085  1.059958  0.105593  0.563688 -0.008930   \n",
       "3  0.258292  0.105593  0.296466  0.869085  1.059958  0.105593  0.563688   \n",
       "4 -0.047105  0.258292  0.410990  0.296466  0.869085  1.059958  0.105593   \n",
       "\n",
       "   before15  before16  before17     ...       before4  before40   before5  \\\n",
       "0  0.181943  0.067419 -0.047105     ...      0.449165 -0.123454  0.487339   \n",
       "1  0.830911  0.181943  0.067419     ...      0.487339 -0.390676  0.449165   \n",
       "2  0.181943  0.830911  0.181943     ...      0.449165  0.105593  0.487339   \n",
       "3 -0.008930  0.181943  0.830911     ...      0.678212 -0.161628  0.449165   \n",
       "4  0.563688 -0.008930  0.181943     ...      0.258292 -0.314327  0.678212   \n",
       "\n",
       "    before6   before7   before8   before9                id  label        time  \n",
       "0  0.410990  0.296466  0.869085  1.059958  02e99bd4f6cfb33f      0  1493570400  \n",
       "1  0.487339  0.410990  0.296466  0.869085  02e99bd4f6cfb33f      0  1493570460  \n",
       "2  0.449165  0.487339  0.410990  0.296466  02e99bd4f6cfb33f      0  1493570520  \n",
       "3  0.487339  0.449165  0.487339  0.410990  02e99bd4f6cfb33f      0  1493570580  \n",
       "4  0.449165  0.487339  0.449165  0.487339  02e99bd4f6cfb33f      0  1493570640  \n",
       "\n",
       "[5 rows x 44 columns]"
      ]
     },
     "execution_count": 10,
     "metadata": {},
     "output_type": "execute_result"
    }
   ],
   "source": [
    "filepath1=\"../../dataset/anomaly_detection_1/train.csv\"\n",
    "data=pd.read_csv(filepath1)\n",
    "filepath2 = \"../../dataset/anomaly_detection_1/test_dataset.csv\"\n",
    "submit = pd.read_csv(filepath2)\n",
    "KPI_ID = pd.unique(data['KPI ID'])\n",
    "KPI_ID00 = data[data['KPI ID']==KPI_ID[0]]\n",
    "KPI_ID01 = submit[submit['KPI ID']==KPI_ID[1]]\n",
    "samples = make_samples(KPI_ID[0],np.array(KPI_ID00['timestamp']),np.array(KPI_ID00['value']),np.array(KPI_ID00['label']),40)\n",
    "for kpi_id in KPI_ID[1:5]:\n",
    "    kpi_data = data[data['KPI ID']==kpi_id]\n",
    "    tmp = make_samples(kpi_id,np.array(kpi_data['timestamp']),np.array(kpi_data['value']),np.array(kpi_data['label']),40)\n",
    "    samples = pd.concat([samples,tmp])\n",
    "    print(kpi_id)\n",
    "samples_train = samples[samples.label==0]\n",
    "samples_train.head()"
   ]
  },
  {
   "cell_type": "code",
   "execution_count": 74,
   "metadata": {},
   "outputs": [
    {
     "data": {
      "text/html": [
       "<div>\n",
       "<style>\n",
       "    .dataframe thead tr:only-child th {\n",
       "        text-align: right;\n",
       "    }\n",
       "\n",
       "    .dataframe thead th {\n",
       "        text-align: left;\n",
       "    }\n",
       "\n",
       "    .dataframe tbody tr th {\n",
       "        vertical-align: top;\n",
       "    }\n",
       "</style>\n",
       "<table border=\"1\" class=\"dataframe\">\n",
       "  <thead>\n",
       "    <tr style=\"text-align: right;\">\n",
       "      <th></th>\n",
       "      <th>hour</th>\n",
       "      <th>minute</th>\n",
       "      <th>id</th>\n",
       "      <th>timestamp</th>\n",
       "      <th>label</th>\n",
       "      <th>minute2</th>\n",
       "      <th>value</th>\n",
       "      <th>median</th>\n",
       "      <th>mean</th>\n",
       "      <th>diff1</th>\n",
       "      <th>diff2</th>\n",
       "      <th>predict</th>\n",
       "    </tr>\n",
       "  </thead>\n",
       "  <tbody>\n",
       "    <tr>\n",
       "      <th>0</th>\n",
       "      <td>0</td>\n",
       "      <td>0</td>\n",
       "      <td>02e99bd4f6cfb33f</td>\n",
       "      <td>1493568000</td>\n",
       "      <td>0</td>\n",
       "      <td>0</td>\n",
       "      <td>1.065276</td>\n",
       "      <td>1.124321</td>\n",
       "      <td>1.12297</td>\n",
       "      <td>0.059045</td>\n",
       "      <td>0.057695</td>\n",
       "      <td>0</td>\n",
       "    </tr>\n",
       "    <tr>\n",
       "      <th>1</th>\n",
       "      <td>0</td>\n",
       "      <td>0</td>\n",
       "      <td>02e99bd4f6cfb33f</td>\n",
       "      <td>1501171200</td>\n",
       "      <td>0</td>\n",
       "      <td>0</td>\n",
       "      <td>1.305873</td>\n",
       "      <td>1.124321</td>\n",
       "      <td>1.12297</td>\n",
       "      <td>0.181552</td>\n",
       "      <td>0.182902</td>\n",
       "      <td>0</td>\n",
       "    </tr>\n",
       "    <tr>\n",
       "      <th>2</th>\n",
       "      <td>0</td>\n",
       "      <td>0</td>\n",
       "      <td>02e99bd4f6cfb33f</td>\n",
       "      <td>1498838400</td>\n",
       "      <td>0</td>\n",
       "      <td>0</td>\n",
       "      <td>1.142818</td>\n",
       "      <td>1.124321</td>\n",
       "      <td>1.12297</td>\n",
       "      <td>0.018498</td>\n",
       "      <td>0.019848</td>\n",
       "      <td>0</td>\n",
       "    </tr>\n",
       "    <tr>\n",
       "      <th>3</th>\n",
       "      <td>0</td>\n",
       "      <td>0</td>\n",
       "      <td>02e99bd4f6cfb33f</td>\n",
       "      <td>1495728000</td>\n",
       "      <td>0</td>\n",
       "      <td>0</td>\n",
       "      <td>1.034074</td>\n",
       "      <td>1.124321</td>\n",
       "      <td>1.12297</td>\n",
       "      <td>0.090247</td>\n",
       "      <td>0.088897</td>\n",
       "      <td>0</td>\n",
       "    </tr>\n",
       "    <tr>\n",
       "      <th>4</th>\n",
       "      <td>0</td>\n",
       "      <td>0</td>\n",
       "      <td>02e99bd4f6cfb33f</td>\n",
       "      <td>1498233600</td>\n",
       "      <td>0</td>\n",
       "      <td>0</td>\n",
       "      <td>1.061473</td>\n",
       "      <td>1.124321</td>\n",
       "      <td>1.12297</td>\n",
       "      <td>0.062848</td>\n",
       "      <td>0.061498</td>\n",
       "      <td>0</td>\n",
       "    </tr>\n",
       "  </tbody>\n",
       "</table>\n",
       "</div>"
      ],
      "text/plain": [
       "   hour  minute                id   timestamp  label  minute2     value  \\\n",
       "0     0       0  02e99bd4f6cfb33f  1493568000      0        0  1.065276   \n",
       "1     0       0  02e99bd4f6cfb33f  1501171200      0        0  1.305873   \n",
       "2     0       0  02e99bd4f6cfb33f  1498838400      0        0  1.142818   \n",
       "3     0       0  02e99bd4f6cfb33f  1495728000      0        0  1.034074   \n",
       "4     0       0  02e99bd4f6cfb33f  1498233600      0        0  1.061473   \n",
       "\n",
       "     median     mean     diff1     diff2  predict  \n",
       "0  1.124321  1.12297  0.059045  0.057695        0  \n",
       "1  1.124321  1.12297  0.181552  0.182902        0  \n",
       "2  1.124321  1.12297  0.018498  0.019848        0  \n",
       "3  1.124321  1.12297  0.090247  0.088897        0  \n",
       "4  1.124321  1.12297  0.062848  0.061498        0  "
      ]
     },
     "execution_count": 74,
     "metadata": {},
     "output_type": "execute_result"
    }
   ],
   "source": [
    "samples=pd.read_csv(\"./samples/samples1.csv\")\n",
    "samples.head()"
   ]
  },
  {
   "cell_type": "code",
   "execution_count": 69,
   "metadata": {},
   "outputs": [
    {
     "data": {
      "text/plain": [
       "IsolationForest(bootstrap=True, contamination=0.1, max_features=1.0,\n",
       "        max_samples=0.01, n_estimators=500, n_jobs=1, random_state=None,\n",
       "        verbose=0)"
      ]
     },
     "execution_count": 69,
     "metadata": {},
     "output_type": "execute_result"
    }
   ],
   "source": [
    "from sklearn.ensemble import IsolationForest\n",
    "samples_train = samples[samples.label==0]\n",
    "clf = IsolationForest(n_estimators=500,max_samples = 0.01,bootstrap=True)\n",
    "clf.fit(samples_train.iloc[:,3:6])"
   ]
  },
  {
   "cell_type": "code",
   "execution_count": 70,
   "metadata": {},
   "outputs": [
    {
     "data": {
      "text/plain": [
       "array([-1, -1, -1, ...,  1,  1,  1])"
      ]
     },
     "execution_count": 70,
     "metadata": {},
     "output_type": "execute_result"
    }
   ],
   "source": [
    "y_pred_sampes=clf.predict(samples.iloc[:,3:6])\n",
    "y_pred_sampes"
   ]
  },
  {
   "cell_type": "code",
   "execution_count": 129,
   "metadata": {},
   "outputs": [
    {
     "name": "stderr",
     "output_type": "stream",
     "text": [
      "/Users/sheldon/anaconda2/lib/python2.7/site-packages/ipykernel_launcher.py:2: SettingWithCopyWarning: \n",
      "A value is trying to be set on a copy of a slice from a DataFrame\n",
      "\n",
      "See the caveats in the documentation: http://pandas.pydata.org/pandas-docs/stable/indexing.html#indexing-view-versus-copy\n",
      "  \n"
     ]
    },
    {
     "name": "stdout",
     "output_type": "stream",
     "text": [
      "{\"message\": \"success\", \"data\": 0.029703796412181894, \"result\": true}\n"
     ]
    },
    {
     "data": {
      "text/plain": [
       "'{\"message\": \"success\", \"data\": 0.029703796412181894, \"result\": true}'"
      ]
     },
     "execution_count": 129,
     "metadata": {},
     "output_type": "execute_result"
    }
   ],
   "source": [
    "samples=pd.read_csv(\"./samples/samples1.csv\")\n",
    "samples['predict'][samples.diff2>0.3]=1\n",
    "data = pd.merge(KPI_ID00,samples[[\"id\",\"timestamp\",\"predict\"]],left_on=[\"KPI ID\",\"timestamp\"],right_on=[\"id\",\"timestamp\"],how='left')\n",
    "data= data[[\"KPI ID\",\"timestamp\",\"label\",\"predict\"]]\n",
    "label_evaluation(data.iloc[:,[0,1,2]],data.iloc[:,[0,1,3]])"
   ]
  },
  {
   "cell_type": "code",
   "execution_count": 76,
   "metadata": {},
   "outputs": [
    {
     "name": "stdout",
     "output_type": "stream",
     "text": [
      "{\"message\": \"success\", \"data\": 0.11753726066913657, \"result\": true}\n"
     ]
    },
    {
     "data": {
      "text/plain": [
       "'{\"message\": \"success\", \"data\": 0.11753726066913657, \"result\": true}'"
      ]
     },
     "execution_count": 76,
     "metadata": {},
     "output_type": "execute_result"
    }
   ],
   "source": [
    "label_evaluation(data.iloc[:,[0,1,2]],data.iloc[:,[0,1,3]])"
   ]
  },
  {
   "cell_type": "code",
   "execution_count": 73,
   "metadata": {},
   "outputs": [
    {
     "name": "stdout",
     "output_type": "stream",
     "text": [
      "{\"message\": \"success\", \"data\": 0.009722769675469714, \"result\": true}\n"
     ]
    },
    {
     "data": {
      "text/plain": [
       "'{\"message\": \"success\", \"data\": 0.009722769675469714, \"result\": true}'"
      ]
     },
     "execution_count": 73,
     "metadata": {},
     "output_type": "execute_result"
    }
   ],
   "source": [
    "label_evaluation(data.iloc[:,[0,1,2]],data.iloc[:,[0,1,3]])"
   ]
  },
  {
   "cell_type": "code",
   "execution_count": 7,
   "metadata": {
    "collapsed": true
   },
   "outputs": [],
   "source": [
    "# consider delay threshold and missing segments\n",
    "def get_range_proba(predict, label, delay=7):\n",
    "\n",
    "    splits = np.where(label[1:] != label[:-1])[0] + 1\n",
    "    is_anomaly = label[0] == 1\n",
    "    new_predict = np.array(predict)\n",
    "    pos = 0\n",
    "\n",
    "    for sp in splits:\n",
    "        if is_anomaly:\n",
    "            if 1 in predict[pos:min(pos + delay + 1,sp)]:\n",
    "                new_predict[pos: sp] = 1\n",
    "            else:\n",
    "                new_predict[pos: sp] = 0\n",
    "        is_anomaly = not is_anomaly\n",
    "        pos = sp\n",
    "    sp = len(label)\n",
    "\n",
    "    if is_anomaly:  #anomaly in the end\n",
    "        if 1 in predict[pos: min(pos + delay+1,sp)]:\n",
    "            new_predict[pos: sp] = 1\n",
    "        else:\n",
    "            new_predict[pos: sp] = 0\n",
    "    return new_predict\n",
    "\n",
    "# set missing = 0\n",
    "def reconstruct_label(timestamp, label):\n",
    "    timestamp = np.asarray(timestamp, np.int64)\n",
    "    timestamp_sorted = np.asarray(timestamp[np.argsort(timestamp)])\n",
    "    interval = np.min(np.diff(timestamp_sorted))\n",
    "    if interval == 0:\n",
    "        print(timestamp_sorted)\n",
    "    idx = (timestamp_sorted - timestamp_sorted[0]) // interval\n",
    "    new_label = np.zeros(shape=((timestamp_sorted[-1] - timestamp_sorted[0]) // interval + 1,), dtype=np.int)\n",
    "    new_label[idx] = label\n",
    "    return new_label\n",
    "\n",
    "def label_evaluation(truth_df, result_df, delay=7):\n",
    "    data = {'result': False, 'data': \"\", 'message': \"\"}\n",
    "    kpi_names = truth_df['KPI ID'].values\n",
    "    kpi_names = np.unique(kpi_names)\n",
    "    y_true_list = []\n",
    "    y_pred_list = []\n",
    "    for kpi_name in kpi_names:\n",
    "        truth = truth_df[truth_df[\"KPI ID\"] == kpi_name]\n",
    "        y_true = reconstruct_label(truth[\"timestamp\"], truth[\"label\"])\n",
    "        try:\n",
    "            result = result_df[result_df[\"KPI ID\"] == kpi_name]\n",
    "            y_pred = reconstruct_label(result[\"timestamp\"], result[\"predict\"])\n",
    "        except:\n",
    "            data['message'] = \"The file you submitted need contain 'predict','timestamp' and  \\\n",
    "                             'KPI ID' columns\"\n",
    "            return json.dumps(data)\n",
    "        try:\n",
    "            assert np.array_equal(len(y_true),len(y_pred)) == True\n",
    "        except:\n",
    "            data['message'] = \"The length of your submitted file is wrong\"\n",
    "            return json.dumps(data)\n",
    "\n",
    "        y_pred = get_range_proba(y_pred, y_true, delay)\n",
    "        y_true_list.append(y_true)\n",
    "        y_pred_list.append(y_pred)\n",
    "\n",
    "    fscore = f1_score(np.concatenate(y_true_list), np.concatenate(y_pred_list))\n",
    "    data['result'] = True\n",
    "    data['data'] = fscore\n",
    "    data['message'] = 'success'\n",
    "    print(json.dumps(data))\n",
    "    return json.dumps(data)"
   ]
  },
  {
   "cell_type": "code",
   "execution_count": null,
   "metadata": {
    "collapsed": true
   },
   "outputs": [],
   "source": []
  }
 ],
 "metadata": {
  "kernelspec": {
   "display_name": "Python 2",
   "language": "python",
   "name": "python2"
  },
  "language_info": {
   "codemirror_mode": {
    "name": "ipython",
    "version": 2
   },
   "file_extension": ".py",
   "mimetype": "text/x-python",
   "name": "python",
   "nbconvert_exporter": "python",
   "pygments_lexer": "ipython2",
   "version": "2.7.13"
  }
 },
 "nbformat": 4,
 "nbformat_minor": 1
}
