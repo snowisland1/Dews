{
 "cells": [
  {
   "cell_type": "code",
   "execution_count": 1,
   "metadata": {
    "collapsed": true
   },
   "outputs": [],
   "source": [
    "import pandas as pd\n",
    "import time"
   ]
  },
  {
   "cell_type": "code",
   "execution_count": 4,
   "metadata": {},
   "outputs": [],
   "source": [
    "filepath=\"../../dataset/anomaly_detection_1/train.csv\"\n",
    "data=pd.read_csv(filepath)"
   ]
  },
  {
   "cell_type": "code",
   "execution_count": 7,
   "metadata": {},
   "outputs": [],
   "source": [
    "KPI_ID = pd.unique(data['KPI ID'])"
   ]
  },
  {
   "cell_type": "code",
   "execution_count": 8,
   "metadata": {},
   "outputs": [
    {
     "data": {
      "text/plain": [
       "array(['02e99bd4f6cfb33f', '9bd90500bfd11edb', 'e0770391decc44ce',\n",
       "       'da403e4e3f87c9e0', 'a5bf5d65261d859a', '18fbb1d5a5dc099d',\n",
       "       '8c892e5525f3e491', 'e5e3cd1a03fee6bd', '40e25005ff8992bd',\n",
       "       'cff6d3c01e6a6bfa', '71595dd7171f4540', '09513ae3e75778a3',\n",
       "       '9ee5879409dccef9', 'c58bfcbacb2822d1', '1c35dbf57f55f5e4',\n",
       "       '88cf3a776ba00e7c', '046ec29ddf80d62e', '7c189dd36f048a6c',\n",
       "       'a40b1df87e3f1c87', '8bef9af9a922e0b3', 'affb01ca2b4f0b45',\n",
       "       '07927a9a18fa19ae', '54e8a140f6237526', 'b3b2e6d1a791d63a',\n",
       "       '8a20c229e9860d0c', '769894baefea4e9e', '76f4550c43334374'], dtype=object)"
      ]
     },
     "execution_count": 8,
     "metadata": {},
     "output_type": "execute_result"
    }
   ],
   "source": [
    "KPI_ID"
   ]
  },
  {
   "cell_type": "code",
   "execution_count": 11,
   "metadata": {},
   "outputs": [],
   "source": [
    "KPI_ID00 = data[data['KPI ID']==KPI_ID[0]]\n",
    "KPI_ID01 = data[data['KPI ID']==KPI_ID[1]]\n",
    "KPI_ID02 = data[data['KPI ID']==KPI_ID[2]]\n",
    "KPI_ID03 = data[data['KPI ID']==KPI_ID[3]]\n",
    "KPI_ID04 = data[data['KPI ID']==KPI_ID[4]]\n",
    "KPI_ID05 = data[data['KPI ID']==KPI_ID[5]]\n",
    "KPI_ID06 = data[data['KPI ID']==KPI_ID[6]]\n",
    "KPI_ID07 = data[data['KPI ID']==KPI_ID[7]]\n",
    "KPI_ID08 = data[data['KPI ID']==KPI_ID[8]]\n",
    "KPI_ID09 = data[data['KPI ID']==KPI_ID[9]]\n",
    "KPI_ID10 = data[data['KPI ID']==KPI_ID[10]]\n",
    "KPI_ID11 = data[data['KPI ID']==KPI_ID[11]]\n",
    "KPI_ID12 = data[data['KPI ID']==KPI_ID[12]]\n",
    "KPI_ID13 = data[data['KPI ID']==KPI_ID[13]]\n",
    "KPI_ID14 = data[data['KPI ID']==KPI_ID[14]]\n",
    "KPI_ID15 = data[data['KPI ID']==KPI_ID[15]]\n",
    "KPI_ID16 = data[data['KPI ID']==KPI_ID[16]]\n",
    "KPI_ID17 = data[data['KPI ID']==KPI_ID[17]]\n",
    "KPI_ID18 = data[data['KPI ID']==KPI_ID[18]]\n",
    "KPI_ID19 = data[data['KPI ID']==KPI_ID[19]]\n",
    "KPI_ID20 = data[data['KPI ID']==KPI_ID[20]]\n",
    "KPI_ID21 = data[data['KPI ID']==KPI_ID[21]]\n",
    "KPI_ID22 = data[data['KPI ID']==KPI_ID[22]]\n",
    "KPI_ID23 = data[data['KPI ID']==KPI_ID[23]]\n",
    "KPI_ID24 = data[data['KPI ID']==KPI_ID[24]]\n",
    "KPI_ID25 = data[data['KPI ID']==KPI_ID[25]]\n",
    "KPI_ID26 = data[data['KPI ID']==KPI_ID[26]]"
   ]
  },
  {
   "cell_type": "code",
   "execution_count": 15,
   "metadata": {},
   "outputs": [
    {
     "data": {
      "text/html": [
       "<div>\n",
       "<style>\n",
       "    .dataframe thead tr:only-child th {\n",
       "        text-align: right;\n",
       "    }\n",
       "\n",
       "    .dataframe thead th {\n",
       "        text-align: left;\n",
       "    }\n",
       "\n",
       "    .dataframe tbody tr th {\n",
       "        vertical-align: top;\n",
       "    }\n",
       "</style>\n",
       "<table border=\"1\" class=\"dataframe\">\n",
       "  <thead>\n",
       "    <tr style=\"text-align: right;\">\n",
       "      <th></th>\n",
       "      <th>KPI ID</th>\n",
       "      <th>timestamp</th>\n",
       "      <th>value</th>\n",
       "      <th>label</th>\n",
       "    </tr>\n",
       "  </thead>\n",
       "  <tbody>\n",
       "    <tr>\n",
       "      <th>0</th>\n",
       "      <td>02e99bd4f6cfb33f</td>\n",
       "      <td>1493568000</td>\n",
       "      <td>1.901639</td>\n",
       "      <td>0</td>\n",
       "    </tr>\n",
       "    <tr>\n",
       "      <th>1</th>\n",
       "      <td>02e99bd4f6cfb33f</td>\n",
       "      <td>1493568060</td>\n",
       "      <td>1.786885</td>\n",
       "      <td>0</td>\n",
       "    </tr>\n",
       "    <tr>\n",
       "      <th>2</th>\n",
       "      <td>02e99bd4f6cfb33f</td>\n",
       "      <td>1493568120</td>\n",
       "      <td>2.000000</td>\n",
       "      <td>0</td>\n",
       "    </tr>\n",
       "    <tr>\n",
       "      <th>3</th>\n",
       "      <td>02e99bd4f6cfb33f</td>\n",
       "      <td>1493568180</td>\n",
       "      <td>1.885246</td>\n",
       "      <td>0</td>\n",
       "    </tr>\n",
       "    <tr>\n",
       "      <th>4</th>\n",
       "      <td>02e99bd4f6cfb33f</td>\n",
       "      <td>1493568240</td>\n",
       "      <td>1.819672</td>\n",
       "      <td>0</td>\n",
       "    </tr>\n",
       "  </tbody>\n",
       "</table>\n",
       "</div>"
      ],
      "text/plain": [
       "             KPI ID   timestamp     value  label\n",
       "0  02e99bd4f6cfb33f  1493568000  1.901639      0\n",
       "1  02e99bd4f6cfb33f  1493568060  1.786885      0\n",
       "2  02e99bd4f6cfb33f  1493568120  2.000000      0\n",
       "3  02e99bd4f6cfb33f  1493568180  1.885246      0\n",
       "4  02e99bd4f6cfb33f  1493568240  1.819672      0"
      ]
     },
     "execution_count": 15,
     "metadata": {},
     "output_type": "execute_result"
    }
   ],
   "source": [
    "KPI_ID00.head()"
   ]
  },
  {
   "cell_type": "code",
   "execution_count": 103,
   "metadata": {},
   "outputs": [
    {
     "data": {
      "text/plain": [
       "[131795, 2131]"
      ]
     },
     "execution_count": 103,
     "metadata": {},
     "output_type": "execute_result"
    }
   ],
   "source": [
    "length = len(KPI_ID01)\n",
    "ano_num= sum(KPI_ID00.label)\n",
    "[length,ano_num]"
   ]
  },
  {
   "cell_type": "code",
   "execution_count": 82,
   "metadata": {},
   "outputs": [
    {
     "data": {
      "text/html": [
       "<div>\n",
       "<style>\n",
       "    .dataframe thead tr:only-child th {\n",
       "        text-align: right;\n",
       "    }\n",
       "\n",
       "    .dataframe thead th {\n",
       "        text-align: left;\n",
       "    }\n",
       "\n",
       "    .dataframe tbody tr th {\n",
       "        vertical-align: top;\n",
       "    }\n",
       "</style>\n",
       "<table border=\"1\" class=\"dataframe\">\n",
       "  <thead>\n",
       "    <tr style=\"text-align: right;\">\n",
       "      <th></th>\n",
       "      <th>before0</th>\n",
       "      <th>before1</th>\n",
       "      <th>before10</th>\n",
       "      <th>before11</th>\n",
       "      <th>before12</th>\n",
       "      <th>before13</th>\n",
       "      <th>before14</th>\n",
       "      <th>before15</th>\n",
       "      <th>before16</th>\n",
       "      <th>before17</th>\n",
       "      <th>...</th>\n",
       "      <th>before2</th>\n",
       "      <th>before20</th>\n",
       "      <th>before3</th>\n",
       "      <th>before4</th>\n",
       "      <th>before5</th>\n",
       "      <th>before6</th>\n",
       "      <th>before7</th>\n",
       "      <th>before8</th>\n",
       "      <th>before9</th>\n",
       "      <th>label</th>\n",
       "    </tr>\n",
       "  </thead>\n",
       "  <tbody>\n",
       "    <tr>\n",
       "      <th>0</th>\n",
       "      <td>2.180328</td>\n",
       "      <td>2.032787</td>\n",
       "      <td>1.950820</td>\n",
       "      <td>1.950820</td>\n",
       "      <td>1.967213</td>\n",
       "      <td>1.934426</td>\n",
       "      <td>1.885246</td>\n",
       "      <td>1.885246</td>\n",
       "      <td>1.819672</td>\n",
       "      <td>1.885246</td>\n",
       "      <td>...</td>\n",
       "      <td>1.967213</td>\n",
       "      <td>1.901639</td>\n",
       "      <td>2.049180</td>\n",
       "      <td>1.918033</td>\n",
       "      <td>1.836066</td>\n",
       "      <td>1.803279</td>\n",
       "      <td>1.934426</td>\n",
       "      <td>1.901639</td>\n",
       "      <td>1.950820</td>\n",
       "      <td>0</td>\n",
       "    </tr>\n",
       "    <tr>\n",
       "      <th>1</th>\n",
       "      <td>1.934426</td>\n",
       "      <td>2.180328</td>\n",
       "      <td>1.950820</td>\n",
       "      <td>1.950820</td>\n",
       "      <td>1.950820</td>\n",
       "      <td>1.967213</td>\n",
       "      <td>1.934426</td>\n",
       "      <td>1.885246</td>\n",
       "      <td>1.885246</td>\n",
       "      <td>1.819672</td>\n",
       "      <td>...</td>\n",
       "      <td>2.032787</td>\n",
       "      <td>1.786885</td>\n",
       "      <td>1.967213</td>\n",
       "      <td>2.049180</td>\n",
       "      <td>1.918033</td>\n",
       "      <td>1.836066</td>\n",
       "      <td>1.803279</td>\n",
       "      <td>1.934426</td>\n",
       "      <td>1.901639</td>\n",
       "      <td>0</td>\n",
       "    </tr>\n",
       "    <tr>\n",
       "      <th>2</th>\n",
       "      <td>1.950820</td>\n",
       "      <td>1.934426</td>\n",
       "      <td>1.901639</td>\n",
       "      <td>1.950820</td>\n",
       "      <td>1.950820</td>\n",
       "      <td>1.950820</td>\n",
       "      <td>1.967213</td>\n",
       "      <td>1.934426</td>\n",
       "      <td>1.885246</td>\n",
       "      <td>1.885246</td>\n",
       "      <td>...</td>\n",
       "      <td>2.180328</td>\n",
       "      <td>2.000000</td>\n",
       "      <td>2.032787</td>\n",
       "      <td>1.967213</td>\n",
       "      <td>2.049180</td>\n",
       "      <td>1.918033</td>\n",
       "      <td>1.836066</td>\n",
       "      <td>1.803279</td>\n",
       "      <td>1.934426</td>\n",
       "      <td>0</td>\n",
       "    </tr>\n",
       "    <tr>\n",
       "      <th>3</th>\n",
       "      <td>1.934426</td>\n",
       "      <td>1.950820</td>\n",
       "      <td>1.934426</td>\n",
       "      <td>1.901639</td>\n",
       "      <td>1.950820</td>\n",
       "      <td>1.950820</td>\n",
       "      <td>1.950820</td>\n",
       "      <td>1.967213</td>\n",
       "      <td>1.934426</td>\n",
       "      <td>1.885246</td>\n",
       "      <td>...</td>\n",
       "      <td>1.934426</td>\n",
       "      <td>1.885246</td>\n",
       "      <td>2.180328</td>\n",
       "      <td>2.032787</td>\n",
       "      <td>1.967213</td>\n",
       "      <td>2.049180</td>\n",
       "      <td>1.918033</td>\n",
       "      <td>1.836066</td>\n",
       "      <td>1.803279</td>\n",
       "      <td>0</td>\n",
       "    </tr>\n",
       "    <tr>\n",
       "      <th>4</th>\n",
       "      <td>1.983607</td>\n",
       "      <td>1.934426</td>\n",
       "      <td>1.803279</td>\n",
       "      <td>1.934426</td>\n",
       "      <td>1.901639</td>\n",
       "      <td>1.950820</td>\n",
       "      <td>1.950820</td>\n",
       "      <td>1.950820</td>\n",
       "      <td>1.967213</td>\n",
       "      <td>1.934426</td>\n",
       "      <td>...</td>\n",
       "      <td>1.950820</td>\n",
       "      <td>1.819672</td>\n",
       "      <td>1.934426</td>\n",
       "      <td>2.180328</td>\n",
       "      <td>2.032787</td>\n",
       "      <td>1.967213</td>\n",
       "      <td>2.049180</td>\n",
       "      <td>1.918033</td>\n",
       "      <td>1.836066</td>\n",
       "      <td>0</td>\n",
       "    </tr>\n",
       "  </tbody>\n",
       "</table>\n",
       "<p>5 rows × 22 columns</p>\n",
       "</div>"
      ],
      "text/plain": [
       "    before0   before1  before10  before11  before12  before13  before14  \\\n",
       "0  2.180328  2.032787  1.950820  1.950820  1.967213  1.934426  1.885246   \n",
       "1  1.934426  2.180328  1.950820  1.950820  1.950820  1.967213  1.934426   \n",
       "2  1.950820  1.934426  1.901639  1.950820  1.950820  1.950820  1.967213   \n",
       "3  1.934426  1.950820  1.934426  1.901639  1.950820  1.950820  1.950820   \n",
       "4  1.983607  1.934426  1.803279  1.934426  1.901639  1.950820  1.950820   \n",
       "\n",
       "   before15  before16  before17  ...     before2  before20   before3  \\\n",
       "0  1.885246  1.819672  1.885246  ...    1.967213  1.901639  2.049180   \n",
       "1  1.885246  1.885246  1.819672  ...    2.032787  1.786885  1.967213   \n",
       "2  1.934426  1.885246  1.885246  ...    2.180328  2.000000  2.032787   \n",
       "3  1.967213  1.934426  1.885246  ...    1.934426  1.885246  2.180328   \n",
       "4  1.950820  1.967213  1.934426  ...    1.950820  1.819672  1.934426   \n",
       "\n",
       "    before4   before5   before6   before7   before8   before9  label  \n",
       "0  1.918033  1.836066  1.803279  1.934426  1.901639  1.950820      0  \n",
       "1  2.049180  1.918033  1.836066  1.803279  1.934426  1.901639      0  \n",
       "2  1.967213  2.049180  1.918033  1.836066  1.803279  1.934426      0  \n",
       "3  2.032787  1.967213  2.049180  1.918033  1.836066  1.803279      0  \n",
       "4  2.180328  2.032787  1.967213  2.049180  1.918033  1.836066      0  \n",
       "\n",
       "[5 rows x 22 columns]"
      ]
     },
     "execution_count": 82,
     "metadata": {},
     "output_type": "execute_result"
    }
   ],
   "source": [
    "samples = make_samples(KPI_ID00['value'],KPI_ID00['label'],20)\n",
    "samples.head()"
   ]
  },
  {
   "cell_type": "code",
   "execution_count": 110,
   "metadata": {},
   "outputs": [
    {
     "data": {
      "text/plain": [
       "[131775, 129644]"
      ]
     },
     "execution_count": 110,
     "metadata": {},
     "output_type": "execute_result"
    }
   ],
   "source": [
    "samples_train = samples[samples.label==0]\n",
    "[len(samples),len(samples_train)]"
   ]
  },
  {
   "cell_type": "code",
   "execution_count": 111,
   "metadata": {},
   "outputs": [
    {
     "data": {
      "text/plain": [
       "array([1, 1, 1, ..., 1, 1, 1])"
      ]
     },
     "execution_count": 111,
     "metadata": {},
     "output_type": "execute_result"
    }
   ],
   "source": [
    "#Isolation Forest\n",
    "from sklearn.ensemble import IsolationForest\n",
    "\n",
    "clf = IsolationForest(n_estimators=500,max_samples = 0.005)\n",
    "clf.fit(samples_train.iloc[:,0:20])\n",
    "y_pred_sampes=clf.predict(samples.iloc[:,0:20])\n",
    "y_pred_sampes"
   ]
  },
  {
   "cell_type": "code",
   "execution_count": 115,
   "metadata": {},
   "outputs": [
    {
     "data": {
      "text/plain": [
       "671"
      ]
     },
     "execution_count": 115,
     "metadata": {},
     "output_type": "execute_result"
    }
   ],
   "source": [
    "sum(y_pred_sampes+samples.label==0)"
   ]
  },
  {
   "cell_type": "code",
   "execution_count": 79,
   "metadata": {},
   "outputs": [],
   "source": [
    "#algorith1  isolatation forecast!!  长度为x\n",
    "\n",
    "def make_samples(series,anomaly_series,period):\n",
    "    if period>len(series):\n",
    "        return \"error\"\n",
    "    result={}\n",
    "    for start in range(period,len(series)):\n",
    "        result = append_data(result,\"label\",anomaly_series[start])\n",
    "        strs = getStrs(\"before\",period+1)\n",
    "        for i in range(period+1):\n",
    "            result = append_data(result,strs[i],series[start-i])\n",
    "    return pd.DataFrame(result)\n",
    "\n",
    "def append_data(dic,key,value):\n",
    "    if(dic.has_key(key)):\n",
    "        dic[key].append(value)\n",
    "    else:\n",
    "        dic[key] = [value]\n",
    "    return dic\n",
    "\n",
    "def getStrs(pre,num):\n",
    "    result = []\n",
    "    for i in range(num):\n",
    "        result.append(pre+str(i))\n",
    "    return result"
   ]
  },
  {
   "cell_type": "code",
   "execution_count": 80,
   "metadata": {},
   "outputs": [],
   "source": [
    "result=make_samples([1,2,3,4,5,6,7,8],[1,1,1,0,1,0,1,1],3)"
   ]
  },
  {
   "cell_type": "code",
   "execution_count": 81,
   "metadata": {},
   "outputs": [
    {
     "data": {
      "text/html": [
       "<div>\n",
       "<style>\n",
       "    .dataframe thead tr:only-child th {\n",
       "        text-align: right;\n",
       "    }\n",
       "\n",
       "    .dataframe thead th {\n",
       "        text-align: left;\n",
       "    }\n",
       "\n",
       "    .dataframe tbody tr th {\n",
       "        vertical-align: top;\n",
       "    }\n",
       "</style>\n",
       "<table border=\"1\" class=\"dataframe\">\n",
       "  <thead>\n",
       "    <tr style=\"text-align: right;\">\n",
       "      <th></th>\n",
       "      <th>before0</th>\n",
       "      <th>before1</th>\n",
       "      <th>before2</th>\n",
       "      <th>before3</th>\n",
       "      <th>label</th>\n",
       "    </tr>\n",
       "  </thead>\n",
       "  <tbody>\n",
       "    <tr>\n",
       "      <th>0</th>\n",
       "      <td>4</td>\n",
       "      <td>3</td>\n",
       "      <td>2</td>\n",
       "      <td>1</td>\n",
       "      <td>0</td>\n",
       "    </tr>\n",
       "    <tr>\n",
       "      <th>1</th>\n",
       "      <td>5</td>\n",
       "      <td>4</td>\n",
       "      <td>3</td>\n",
       "      <td>2</td>\n",
       "      <td>1</td>\n",
       "    </tr>\n",
       "    <tr>\n",
       "      <th>2</th>\n",
       "      <td>6</td>\n",
       "      <td>5</td>\n",
       "      <td>4</td>\n",
       "      <td>3</td>\n",
       "      <td>0</td>\n",
       "    </tr>\n",
       "    <tr>\n",
       "      <th>3</th>\n",
       "      <td>7</td>\n",
       "      <td>6</td>\n",
       "      <td>5</td>\n",
       "      <td>4</td>\n",
       "      <td>1</td>\n",
       "    </tr>\n",
       "    <tr>\n",
       "      <th>4</th>\n",
       "      <td>8</td>\n",
       "      <td>7</td>\n",
       "      <td>6</td>\n",
       "      <td>5</td>\n",
       "      <td>1</td>\n",
       "    </tr>\n",
       "  </tbody>\n",
       "</table>\n",
       "</div>"
      ],
      "text/plain": [
       "   before0  before1  before2  before3  label\n",
       "0        4        3        2        1      0\n",
       "1        5        4        3        2      1\n",
       "2        6        5        4        3      0\n",
       "3        7        6        5        4      1\n",
       "4        8        7        6        5      1"
      ]
     },
     "execution_count": 81,
     "metadata": {},
     "output_type": "execute_result"
    }
   ],
   "source": [
    "result"
   ]
  },
  {
   "cell_type": "code",
   "execution_count": 69,
   "metadata": {},
   "outputs": [
    {
     "data": {
      "text/plain": [
       "str"
      ]
     },
     "execution_count": 69,
     "metadata": {},
     "output_type": "execute_result"
    }
   ],
   "source": []
  },
  {
   "cell_type": "code",
   "execution_count": null,
   "metadata": {
    "collapsed": true
   },
   "outputs": [],
   "source": []
  }
 ],
 "metadata": {
  "kernelspec": {
   "display_name": "Python 2",
   "language": "python",
   "name": "python2"
  },
  "language_info": {
   "codemirror_mode": {
    "name": "ipython",
    "version": 2
   },
   "file_extension": ".py",
   "mimetype": "text/x-python",
   "name": "python",
   "nbconvert_exporter": "python",
   "pygments_lexer": "ipython2",
   "version": "2.7.13"
  }
 },
 "nbformat": 4,
 "nbformat_minor": 1
}
