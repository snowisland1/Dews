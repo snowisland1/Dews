{
 "cells": [
  {
   "cell_type": "code",
   "execution_count": 4,
   "metadata": {
    "collapsed": true
   },
   "outputs": [],
   "source": [
    "import pandas as pd\n",
    "import time\n",
    "\n",
    "def read_time_series_with_ananomly(file_path,index_col,timeparse,header_num,ananomly_col):\n",
    "    timeparsefunction={\n",
    "        \"datetime\":from_timestamp_to_datetime,\n",
    "    }\n",
    "    dateparse=lambda x:pd.to_datetime(x)\n",
    "    timeseries=pd.read_csv(file_path,header=header_num)\n",
    "    timeseries=timeparsefunction.get(timeparse)(timeseries,index_col)\n",
    "    return timeseries.set_index(index_col)\n",
    "\n",
    "def from_timestamp_to_datetime(timeseries,index_col):\n",
    "    timeseries[index_col]=timeseries[index_col].map(lambda x: time.strftime(\"%Y-%m-%d %H:%M:%S\",time.localtime(x)))\n",
    "    return timeseries\n",
    "\n"
   ]
  },
  {
   "cell_type": "code",
   "execution_count": 5,
   "metadata": {},
   "outputs": [],
   "source": [
    "filepath=\"../../dataset/demo.csv\"\n",
    "data=read_time_series_with_ananomly(file_path=filepath,timeparse=\"datetime\",index_col=\"timestamp\",\n",
    "                                    header_num=0,ananomly_col=\"label\")"
   ]
  },
  {
   "cell_type": "markdown",
   "metadata": {},
   "source": [
    "data.index\n"
   ]
  },
  {
   "cell_type": "code",
   "execution_count": 7,
   "metadata": {},
   "outputs": [],
   "source": [
    "timeseries = data[data[\"KPI ID\"]==\"29dbcce8\"]\n"
   ]
  },
  {
   "cell_type": "code",
   "execution_count": 9,
   "metadata": {},
   "outputs": [
    {
     "data": {
      "text/plain": [
       "timestamp\n",
       "2016-07-25 00:00:00    0.249685\n",
       "2016-07-25 00:05:00   -0.298967\n",
       "2016-07-25 00:10:00   -0.436130\n",
       "2016-07-25 00:15:00   -0.298967\n",
       "2016-07-25 00:20:00   -0.298967\n",
       "2016-07-25 00:25:00   -0.230385\n",
       "2016-07-25 00:30:00   -0.298967\n",
       "2016-07-25 00:35:00   -0.436130\n",
       "2016-07-25 00:40:00   -0.298967\n",
       "2016-07-25 00:45:00   -0.230385\n",
       "2016-07-25 00:50:00   -0.230385\n",
       "2016-07-25 00:55:00   -0.367548\n",
       "2016-07-25 01:00:00   -0.230385\n",
       "2016-07-25 01:05:00   -0.436130\n",
       "2016-07-25 01:10:00   -0.367548\n",
       "2016-07-25 01:15:00   -0.504711\n",
       "2016-07-25 01:20:00   -0.504711\n",
       "2016-07-25 01:25:00   -0.641874\n",
       "2016-07-25 01:30:00   -0.573293\n",
       "2016-07-25 01:35:00   -0.710456\n",
       "2016-07-25 01:40:00   -0.779037\n",
       "2016-07-25 01:45:00   -0.779037\n",
       "2016-07-25 01:50:00   -0.779037\n",
       "2016-07-25 01:55:00   -0.916200\n",
       "2016-07-25 02:00:00   -0.847619\n",
       "2016-07-25 02:05:00   -0.916200\n",
       "2016-07-25 02:10:00   -0.916200\n",
       "2016-07-25 02:15:00   -0.984782\n",
       "2016-07-25 02:20:00   -1.053363\n",
       "2016-07-25 02:25:00   -0.984782\n",
       "                         ...   \n",
       "2016-08-24 09:30:00    0.455430\n",
       "2016-08-24 09:35:00    0.318267\n",
       "2016-08-24 09:40:00    0.455430\n",
       "2016-08-24 09:45:00    0.455430\n",
       "2016-08-24 09:50:00    0.455430\n",
       "2016-08-24 09:55:00    0.386848\n",
       "2016-08-24 10:00:00    0.661174\n",
       "2016-08-24 10:05:00    0.524011\n",
       "2016-08-24 10:10:00    0.524011\n",
       "2016-08-24 10:15:00    0.524011\n",
       "2016-08-24 10:20:00    0.524011\n",
       "2016-08-24 10:25:00    0.455430\n",
       "2016-08-24 10:30:00    0.386848\n",
       "2016-08-24 10:35:00    0.798337\n",
       "2016-08-24 10:40:00    0.798337\n",
       "2016-08-24 10:45:00    0.524011\n",
       "2016-08-24 10:50:00    0.592593\n",
       "2016-08-24 10:55:00    0.729756\n",
       "2016-08-24 11:00:00    0.729756\n",
       "2016-08-24 11:05:00    0.592593\n",
       "2016-08-24 11:10:00    0.729756\n",
       "2016-08-24 11:15:00    0.661174\n",
       "2016-08-24 11:20:00    0.661174\n",
       "2016-08-24 11:25:00    0.661174\n",
       "2016-08-24 11:30:00    0.524011\n",
       "2016-08-24 11:35:00    0.798337\n",
       "2016-08-24 11:40:00    0.592593\n",
       "2016-08-24 11:45:00    0.592593\n",
       "2016-08-24 11:50:00    0.661174\n",
       "2016-08-24 11:55:00    0.592593\n",
       "Name: value, Length: 8784, dtype: float64"
      ]
     },
     "execution_count": 9,
     "metadata": {},
     "output_type": "execute_result"
    }
   ],
   "source": [
    "timeseries.loc[:,\"value\"]"
   ]
  },
  {
   "cell_type": "code",
   "execution_count": 55,
   "metadata": {},
   "outputs": [
    {
     "ename": "TypeError",
     "evalue": "an integer is required (got type DataFrame)",
     "output_type": "error",
     "traceback": [
      "\u001b[1;31m---------------------------------------------------------------------------\u001b[0m",
      "\u001b[1;31mTypeError\u001b[0m                                 Traceback (most recent call last)",
      "\u001b[1;32m<ipython-input-55-082a47a330f0>\u001b[0m in \u001b[0;36m<module>\u001b[1;34m()\u001b[0m\n\u001b[0;32m      1\u001b[0m \u001b[1;32mimport\u001b[0m \u001b[0mtime\u001b[0m\u001b[1;33m\u001b[0m\u001b[0m\n\u001b[1;32m----> 2\u001b[1;33m \u001b[0mtime\u001b[0m\u001b[1;33m.\u001b[0m\u001b[0mlocaltime\u001b[0m\u001b[1;33m(\u001b[0m\u001b[0mdata\u001b[0m\u001b[1;33m.\u001b[0m\u001b[0miloc\u001b[0m\u001b[1;33m[\u001b[0m\u001b[1;36m0\u001b[0m\u001b[1;33m:\u001b[0m\u001b[1;36m1\u001b[0m\u001b[1;33m,\u001b[0m\u001b[1;36m0\u001b[0m\u001b[1;33m:\u001b[0m\u001b[1;36m0\u001b[0m\u001b[1;33m]\u001b[0m\u001b[1;33m)\u001b[0m\u001b[1;33m\u001b[0m\u001b[0m\n\u001b[0m",
      "\u001b[1;31mTypeError\u001b[0m: an integer is required (got type DataFrame)"
     ]
    }
   ],
   "source": [
    "import time\n",
    "time.localtime(data.iloc[0:1,0:0])"
   ]
  },
  {
   "cell_type": "code",
   "execution_count": 72,
   "metadata": {},
   "outputs": [
    {
     "data": {
      "text/plain": [
       "Index(['KPI ID', 'value', 'label'], dtype='object')"
      ]
     },
     "execution_count": 72,
     "metadata": {},
     "output_type": "execute_result"
    }
   ],
   "source": [
    "data.columns"
   ]
  },
  {
   "cell_type": "code",
   "execution_count": 74,
   "metadata": {},
   "outputs": [
    {
     "ename": "AttributeError",
     "evalue": "'set' object has no attribute 'map'",
     "output_type": "error",
     "traceback": [
      "\u001b[1;31m---------------------------------------------------------------------------\u001b[0m",
      "\u001b[1;31mAttributeError\u001b[0m                            Traceback (most recent call last)",
      "\u001b[1;32m<ipython-input-74-1f2a1eae5345>\u001b[0m in \u001b[0;36m<module>\u001b[1;34m()\u001b[0m\n\u001b[1;32m----> 1\u001b[1;33m \u001b[0mset\u001b[0m\u001b[1;33m(\u001b[0m\u001b[0mdata\u001b[0m\u001b[1;33m.\u001b[0m\u001b[0miloc\u001b[0m\u001b[1;33m[\u001b[0m\u001b[1;33m:\u001b[0m\u001b[1;33m,\u001b[0m\u001b[1;36m0\u001b[0m\u001b[1;33m:\u001b[0m\u001b[1;36m0\u001b[0m\u001b[1;33m]\u001b[0m\u001b[1;33m)\u001b[0m\u001b[1;33m.\u001b[0m\u001b[0mmap\u001b[0m\u001b[1;33m(\u001b[0m\u001b[1;32mlambda\u001b[0m \u001b[0mx\u001b[0m\u001b[1;33m:\u001b[0m\u001b[0mtime\u001b[0m\u001b[1;33m.\u001b[0m\u001b[0mlocaltime\u001b[0m\u001b[1;33m(\u001b[0m\u001b[0mx\u001b[0m\u001b[1;33m)\u001b[0m\u001b[1;33m)\u001b[0m\u001b[1;33m\u001b[0m\u001b[0m\n\u001b[0m",
      "\u001b[1;31mAttributeError\u001b[0m: 'set' object has no attribute 'map'"
     ]
    }
   ],
   "source": []
  },
  {
   "cell_type": "code",
   "execution_count": null,
   "metadata": {
    "collapsed": true
   },
   "outputs": [],
   "source": []
  }
 ],
 "metadata": {
  "kernelspec": {
   "display_name": "Python 3",
   "language": "python",
   "name": "python3"
  },
  "language_info": {
   "codemirror_mode": {
    "name": "ipython",
    "version": 3
   },
   "file_extension": ".py",
   "mimetype": "text/x-python",
   "name": "python",
   "nbconvert_exporter": "python",
   "pygments_lexer": "ipython3",
   "version": "3.6.2"
  }
 },
 "nbformat": 4,
 "nbformat_minor": 1
}
